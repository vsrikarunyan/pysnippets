{
 "cells": [
  {
   "cell_type": "markdown",
   "metadata": {},
   "source": [
    "# Train Reservation System (Assignment)\n",
    "\n",
    "Consider an online reservation system for booking tickets for an Indian train system. The system needs to handle concurrent requests from multiple users trying to reserve seats. To ensure thread safety and prevent race conditions, a Reentrant Lock can be employed.\n",
    "\n",
    "### Requirements:\n",
    "\n",
    "-   The reservation system manages the availability of seats for different seat types on Indian trains, including `1AC`, `2AC`, `3AC`, and `Sleeper`. You can assume all seats types are available in the train.\n",
    "-   Multiple users can attempt to reserve seats concurrently.\n",
    "-   A user should be able to reserve multiple seats of the same seat type.\n",
    "-   The system should prevent overbooking and ensure the integrity of seat reservations\n",
    "\n",
    "## ReservationSystem Class\n",
    "\n",
    "-   ### Instance Variables:\n",
    "    \n",
    "    -   `available_seats`: A Map that stores the available seats for each seat type. The key is the seat type and the value is the number of available seats for that particular seat type.\n",
    "    -   `lock`: A Reentrant lock which ensures that only one thread can modify the available seats for any seat type at a time.\n",
    "-   ### Constructor:\n",
    "    \n",
    "    -   Initializes the `available_seats` and `lock` based on the provided initial available seats.\n",
    "-   ### `reserve_seats` Method:\n",
    "    \n",
    "    -   Takes two parameters: the `seat_type` and `num_seats` (the number of seats to reserve).\n",
    "-   Acquires the lock using `self.lock` to ensure that only one thread can modify the available seats for the seatType at a time.\n",
    "    \n",
    "-   Checks if there are enough available seats for the reservation.\n",
    "    \n",
    "-   If there are enough seats, it decrements the available seats for the particular seat type and returns `True`.\n",
    "    \n",
    "-   If there are not enough seats, it returns `False`.\n",
    "    \n",
    "\n",
    "### `get_available_seats` Method:\n",
    "\n",
    "-   Takes the `seat_type` as a parameter and returns the `number of available seats` of that seat type."
   ]
  }
 ],
 "metadata": {
  "language_info": {
   "name": "python"
  }
 },
 "nbformat": 4,
 "nbformat_minor": 2
}
