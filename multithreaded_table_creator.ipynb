{
 "cells": [
  {
   "cell_type": "markdown",
   "metadata": {},
   "source": [
    "# Multithreaded Table Creator\n",
    "\n",
    "## Problem Statement\n",
    "\n",
    "In this programming challenge, you are tasked with completing the implementation of a multithreaded table creator that prints the multiplication table for a given number. This task involves inheriting from Python's `threading.Thread` class to create a custom `TableCreator` class capable of running in its own thread.\n",
    "\n",
    "Your implementation should enable multiple instances of `TableCreator` to run concurrently, each generating a multiplication table for a different number. The core functionality of your `TableCreator` class will revolve around printing a multiplication table for the number provided to it, from 1 to 10.\n",
    "\n",
    "## Requirements\n",
    "\n",
    "### TableCreator Class\n",
    "\n",
    "-   **Initialization** (`__init__` method): Your class should accept a single integer (`num`) during initialization. This integer represents the number for which the multiplication table is to be generated.\n",
    "-   **Thread Execution** (`run` method): Implement the `run` method to print the multiplication table for the initialized number, from 1 to 10. Each line printed should follow the format: \"`<num> times <i> is <result>`\", where `<num>` is the initialized number, `<i>` is the current multiplier (from 1 to 10), and `<result>` is the product of `<num>` and `<i>`.\n",
    "\n",
    "### Client Code\n",
    "\n",
    "-   Already provided.\n",
    "\n",
    "## Notes\n",
    "\n",
    "-   Make sure to properly initialize the threading superclass in your `TableCreator` class.\n",
    "-   Consider how concurrency affects the execution and output of your program. While exact output order cannot be guaranteed due to the nature of threads, your implementation should ensure all tables are correctly printed out by each respective thread."
   ]
  },
  {
   "cell_type": "code",
   "execution_count": null,
   "metadata": {},
   "outputs": [],
   "source": [
    "import threading\n",
    "\n",
    "\n",
    "# Complete the implementation of the TableCreator class below\n",
    "\n",
    "class TableCreator(threading.Thread):\n",
    "    def __init__(self, num):\n",
    "        threading.Thread.__init__(self)\n",
    "        self.num = num\n",
    "\n",
    "\n",
    "    def run(self):\n",
    "        for i in range(1, 11):\n",
    "            print(f\"{self.num} times {i} is {self.num * i}\")\n",
    "\n",
    "\n",
    "class Client:\n",
    "    @staticmethod\n",
    "    def main():\n",
    "        n = int(input(\"Enter a number: \"))\n",
    "\n",
    "        threads = []\n",
    "        for i in range(1, n + 1):\n",
    "            thread = TableCreator(i)\n",
    "            threads.append(thread)\n",
    "\n",
    "        for thread in threads:\n",
    "            thread.start()\n",
    "\n",
    "        for thread in threads:\n",
    "            thread.join()\n"
   ]
  }
 ],
 "metadata": {
  "language_info": {
   "name": "python"
  }
 },
 "nbformat": 4,
 "nbformat_minor": 2
}
