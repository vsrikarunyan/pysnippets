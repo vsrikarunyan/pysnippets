{
 "cells": [
  {
   "cell_type": "markdown",
   "metadata": {},
   "source": [
    "# Movie Ticket Booking\n",
    "\n",
    "Consider an online reservation system for booking tickets for a movie hall. The system needs to handle concurrent requests from multiple users trying to reserve seats. To ensure thread safety and prevent race conditions, a `Reentrant Lock` can be employed. You can assume there is only one movie for which people are trying to book tickets.\n",
    "\n",
    "## Requirements:\n",
    "\n",
    "-   The reservation system manages the availability of seats for a movie hall.\n",
    "-   Multiple users can attempt to reserve seats concurrently.\n",
    "-   A user should be able to reserve multiple seats in one booking.\n",
    "-   The system should prevent overbooking and ensure the integrity of seat reservations.\n",
    "\n",
    "## MovieTicketBookingSystem Class\n",
    "\n",
    "### Instance Variables:\n",
    "\n",
    "-   `available_seats`: An integer representing the total number of available seats for the movie.\n",
    "-   `lock`: A ReentrantLock used to ensure thread safety when modifying the availableSeats.\n",
    "-   `total_seats`: An integer denoting the total number of seats available for reservation.\n",
    "\n",
    "### Constructor:\n",
    "\n",
    "-   Initializes the `available_seats` and `total_seats` with the total number of seats provided as an argument.\n",
    "-   Creates a `ReentrantLock` instance to be used for synchronization.\n",
    "\n",
    "### `reserve_seats` Method:\n",
    "\n",
    "-   Takes an integer `num_seats` as a parameter representing the number of seats a user wants to reserve.\n",
    "-   Acquires the reservationLock using `self.lock` to ensure that only one thread can modify the availableSeats at a time.\n",
    "-   Checks if there are enough available seats:\n",
    "-   If there are enough seats, it decrements the availableSeats by `num_seats` and returns True.\n",
    "-   If there are not enough seats, it returns False.\n",
    "\n",
    "### `get_available_seats` Method:\n",
    "\n",
    "-   Returns the current number of available seats for the movie.\n",
    "\n",
    "## Summary\n",
    "\n",
    "-   This simplified implementation manages the reservation of seats for a single movie, with the total number of available seats represented as an integer.\n",
    "-   Thread safety is ensured using a ReentrantLock, allowing multiple users to reserve seats concurrently while preventing race conditions.\n",
    "-   The `reserve_seats` method allows users to reserve seats, and the `get_available_seats` method provides information about the remaining available seats."
   ]
  }
 ],
 "metadata": {
  "language_info": {
   "name": "python"
  }
 },
 "nbformat": 4,
 "nbformat_minor": 2
}
