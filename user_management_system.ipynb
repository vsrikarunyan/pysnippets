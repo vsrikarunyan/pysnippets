{
 "cells": [
  {
   "cell_type": "markdown",
   "metadata": {},
   "source": [
    "# User Management System\n",
    "\n",
    "## Problem Statement\n",
    "\n",
    "You are tasked with creating a Python class hierarchy for managing users, including students and employees. The system should encapsulate the functionality required for storing and displaying user information, as well as specialized information for students and employees.\n",
    "\n",
    "## Requirements\n",
    "\n",
    "1.User class:\n",
    "\n",
    "-   Attributes: \\_username, \\_email\n",
    "-   Methods:\n",
    "    -   **init**(self, username, email): Constructor to initialize the user's username and email.\n",
    "    -   displayInfo(self): Prints the user's username and email.\n",
    "    -   getUsername(self): Returns the user's username.\n",
    "    -   getEmail(self): Returns the user's email.\n",
    "\n",
    "2.Student class (derived from User):\n",
    "\n",
    "-   Attributes: \\_studentId, \\_course\n",
    "-   Methods:\n",
    "    -   **init**(self, username, email, studentId, course): Constructor to initialize the student's username, email, student ID, and course.\n",
    "    -   displayInfo(self): Prints the student's username, email, student ID, and course.\n",
    "    -   getStudentId(self): Returns the student's ID.\n",
    "    -   getCourse(self): Returns the student's course.\n",
    "\n",
    "3.Employee class (derived from User):\n",
    "\n",
    "-   Attributes: \\_employeeId, \\_department\n",
    "-   Methods:\n",
    "    -   **init**(self, username, email, employeeId, department): Constructor to initialize the employee's username, email, employee ID, and department.\n",
    "    -   displayInfo(self): Prints the employee's username, email, employee ID, and department.\n",
    "    -   getEmployeeId(self): Returns the employee's ID.\n",
    "    -   getDepartment(self): Returns the employee's department.\n",
    "\n",
    "## Display Format:\n",
    "\n",
    "-   For both the User and Student classes, the displayInfo() method should print the information in the following format:\n",
    "    \n",
    "    -   Username: \\[username\\]\n",
    "    -   Email: \\[email\\]\n",
    "-   For the Student class, additional information should be displayed as follows:\n",
    "    \n",
    "    -   Student ID: \\[studentId\\]\n",
    "    -   Course: \\[course\\]\n",
    "\n",
    "## Instructions\n",
    "\n",
    "-   Implement the User, Student, and Employee classes according to the specified requirements.\n",
    "-   Ensure that the Student and Employee classes inherit from the User class and override the necessary methods.\n",
    "-   Follow the specified display format for printing user and student information."
   ]
  }
 ],
 "metadata": {
  "language_info": {
   "name": "python"
  }
 },
 "nbformat": 4,
 "nbformat_minor": 2
}
