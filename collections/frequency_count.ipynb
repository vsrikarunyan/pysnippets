{
 "cells": [
  {
   "cell_type": "markdown",
   "metadata": {},
   "source": [
    "# Frequency Count(Assignment)\n",
    "\n",
    "## Problem Statement\n",
    "\n",
    "You are given an array of integers, and you need to count the frequency of each integer present in the array using a `Dicitonary` and return the map as the answer.\n",
    "\n",
    "-   Use `Dicitonary` to solve the question.\n",
    "-   The keys of the dicitonary are the elements of the array.\n",
    "-   The values of the dicitonary are the frequencies of those elements.\n",
    "\n",
    "## Instructions\n",
    "\n",
    "1.  Implement the `count_frequency` method.\n",
    "2.  You don't need to print anything, just implement the function and return the dicitonary that stores the elements and their frequencies.\n",
    "3.  The order of the keys inside the dicitonary does not matter."
   ]
  },
  {
   "cell_type": "code",
   "execution_count": null,
   "metadata": {},
   "outputs": [],
   "source": [
    "def count_frequency(arr):\n",
    "    freq_dict = {}\n",
    "    for num in arr:\n",
    "        if num in freq_dict:\n",
    "            freq_dict[num] += 1\n",
    "        else:\n",
    "            freq_dict[num] = 1\n",
    "    return freq_dict\n",
    "\n",
    "# Example usage:\n",
    "arr = [1, 2, 3, 4, 1, 2, 3, 1, 2, 1]\n",
    "frequency = count_frequency(arr)\n",
    "print(frequency) # Output: {1: 4, 2: 3, 3: 2, 4: 1}"
   ]
  }
 ],
 "metadata": {
  "language_info": {
   "name": "python"
  }
 },
 "nbformat": 4,
 "nbformat_minor": 2
}
