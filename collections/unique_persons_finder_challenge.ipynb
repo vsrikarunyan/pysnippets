{
 "cells": [
  {
   "cell_type": "markdown",
   "metadata": {},
   "source": [
    "# Unique Persons Finder Challenge\n",
    "\n",
    "## Problem Statement\n",
    "\n",
    "In this challenge, you will work with a `Person` class, which represents individuals with `name` and `age` attributes. Your task is to implement the `find_unique_persons` function. This function should take a list of `Person` objects as input and return a new list that contains only unique persons based on their names. It's important that this function maintains the order of appearance and includes only the first occurrence of each unique name, disregarding subsequent duplicates.\n",
    "\n",
    "## Task Description\n",
    "\n",
    "### The Person Class\n",
    "\n",
    "The `Person` class is predefined with the following attributes:\n",
    "\n",
    "-   `name`: A string representing the person's name.\n",
    "-   `age`: An integer representing the person's age.\n",
    "\n",
    "You should use this class as provided without modification.\n",
    "\n",
    "### The find_unique_persons Function\n",
    "\n",
    "Implement the `find_unique_persons` function to meet the following requirements:\n",
    "\n",
    "-   Accept a list of `Person` objects as its input.\n",
    "-   Return a new list of `Person` objects, ensuring each name appears only once. If there are multiple persons with the same name, only include the first person encountered with that name in the output list.\n",
    "-   Maintain the order of persons as they appear in the input list."
   ]
  },
  {
   "cell_type": "code",
   "execution_count": null,
   "metadata": {},
   "outputs": [],
   "source": [
    "class Person:\n",
    "    def __init__(self, name, age):\n",
    "        self.name = name\n",
    "        self.age = age\n",
    "\n",
    "\n",
    "def find_unique_persons(people):\n",
    "    seen_names = set()\n",
    "    unique_people = []\n",
    "    for person in people:\n",
    "        if person.name not in seen_names:\n",
    "            unique_people.append(person)\n",
    "            seen_names.add(person.name)\n",
    "    return unique_people\n",
    "\n",
    "\n",
    "# Example usage:\n",
    "person1 = Person(\"Alice\", 30)\n",
    "person2 = Person(\"Bob\", 25)\n",
    "person3 = Person(\"Alice\", 35)\n",
    "person4 = Person(\"Charlie\", 40)\n",
    "\n",
    "people = [person1, person2, person3, person4]\n",
    "\n",
    "unique_persons = find_unique_persons(people)\n",
    "for person in unique_persons:\n",
    "    print(f\"Name: {person.name}, Age: {person.age}\")\n"
   ]
  }
 ],
 "metadata": {
  "language_info": {
   "name": "python"
  }
 },
 "nbformat": 4,
 "nbformat_minor": 2
}
