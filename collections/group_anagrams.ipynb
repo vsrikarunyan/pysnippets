{
 "cells": [
  {
   "cell_type": "markdown",
   "metadata": {},
   "source": [
    "# Group Anagrams\n",
    "\n",
    "## Problem Statement\n",
    "\n",
    "You are given an array of strings `strs`, you need to group the anagrams together and store them in a list of strings. Write a function in Python that takes an array of strings as input and returns a list of lists where each inner list contains the strings that are grouped together i.e. the anagrams.\n",
    "\n",
    "**Note:** A string `s2` is called an anagram of string `s1`, if the frequency of each character in the string s2 is equal to the frequency of each character in the string `s1`.\n",
    "\n",
    "### Example\n",
    "\n",
    "Let us consider the array of strings given as input be \\[\"eat\", \"tea\", \"tan\", \"ate\", \"nat\", \"bat\"\\]. Now, if we look at the array we can see that \"eat\" and \"tea\" are anagrams because in \"eat\" the characters are 'e','a' & 't' having frequency of 1 each. Similarly, \"tea\" also has 'a','e' & 't' characters only and their frequency is also 1 each. Since all the characters have the same frequency and all the characters are common in both strings hence they are anagrams.\n",
    "\n",
    "We group these anagrams together in a list which will look like \\[\\[\"eat\",\"tea\"\\],\\[\"tan\",\"nat\",\"bat\"\\],\\[\"ate\"\\]\\].\n",
    "\n",
    "## Instructions\n",
    "\n",
    "1.  Implement the `group_anagrams` function provided in the code snippet above.\n",
    "2.  The input array of strings can also be empty or `None`. In that case, you need to return an empty list.\n",
    "3.  Use a dictionary to efficiently group the anagrams."
   ]
  },
  {
   "cell_type": "code",
   "execution_count": null,
   "metadata": {},
   "outputs": [
    {
     "name": "stdout",
     "output_type": "stream",
     "text": [
      "[['eat', 'tea', 'ate'], ['tan', 'nat'], ['bat']]\n"
     ]
    }
   ],
   "source": [
    "from collections import defaultdict\n",
    "\n",
    "def group_anagrams(strs):\n",
    "    anagrams = defaultdict(list)\n",
    "    for istr in strs:\n",
    "        sorted_str = ''.join(sorted(istr))\n",
    "        anagrams[sorted_str].append(istr) if sorted_str in anagrams else anagrams.update({sorted_str: [istr]})\n",
    "    return list(anagrams.values())\n",
    "\n",
    "\n",
    "# Example usage\n",
    "input_strings = [\"eat\", \"tea\", \"tan\", \"ate\", \"nat\", \"bat\"]\n",
    "print(group_anagrams(input_strings))"
   ]
  }
 ],
 "metadata": {
  "kernelspec": {
   "display_name": ".venv",
   "language": "python",
   "name": "python3"
  },
  "language_info": {
   "codemirror_mode": {
    "name": "ipython",
    "version": 3
   },
   "file_extension": ".py",
   "mimetype": "text/x-python",
   "name": "python",
   "nbconvert_exporter": "python",
   "pygments_lexer": "ipython3",
   "version": "3.13.0"
  }
 },
 "nbformat": 4,
 "nbformat_minor": 2
}
