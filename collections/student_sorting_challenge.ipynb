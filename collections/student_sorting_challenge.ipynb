{
 "cells": [
  {
   "cell_type": "markdown",
   "metadata": {},
   "source": [
    "# Student Sorting Challenge\n",
    "\n",
    "## Problem Statement\n",
    "\n",
    "The objective of this challenge is to implement a Python method that sorts a list of `Student` objects. The students should be sorted primarily by their marks in ascending order, and if two students have the same marks, they should be further sorted by their names in alphabetical order.\n",
    "\n",
    "## Task Description\n",
    "\n",
    "You are provided with a basic `Student` class that includes `name` and `marks` attributes. Your task is to implement a function `sort_students` that takes a list of `Student` objects as input and returns a new list of `Student` objects sorted according to the criteria mentioned above.\n",
    "\n",
    "### Requirements\n",
    "\n",
    "-   **Student Class**: Utilize the provided `Student` class without modification. This class includes:\n",
    "-   `name`: A string representing the student's name.\n",
    "-   `marks`: An integer representing the student's marks.\n",
    "-   **sort\\_students Function**: Implement this function to sort the list of students. Use Python's built-in sorting capabilities to achieve the sorting with the specified criteria."
   ]
  },
  {
   "cell_type": "code",
   "execution_count": null,
   "metadata": {},
   "outputs": [],
   "source": [
    "class Student:\n",
    "    def __init__(self, name, marks):\n",
    "        self.name = name\n",
    "        self.marks = marks\n",
    "\n",
    "\n",
    "def sort_students(students):\n",
    "    # TODO: Implement the sorting logic here\n",
    "    # You need to sort the students list based on the requirements:\n",
    "    # 1. Sort by marks in ascending order\n",
    "    # 2. If marks are the same, sort by name in alphabetical order\n",
    "    return sorted(students, key=lambda student: (student.marks, student.name))\n",
    "\n",
    "# Example usage:\n",
    "student1 = Student(\"Alice\", 85)\n",
    "student2 = Student(\"Bob\", 75)\n",
    "student3 = Student(\"Charlie\", 85)\n",
    "student4 = Student(\"David\", 90)\n",
    "\n",
    "students = [student1, student2, student3, student4]\n",
    "\n",
    "sorted_students = sort_students(students)\n",
    "for student in sorted_students:\n",
    "    print(f\"Name: {student.name}, Marks: {student.marks}\")\n"
   ]
  }
 ],
 "metadata": {
  "language_info": {
   "name": "python"
  }
 },
 "nbformat": 4,
 "nbformat_minor": 2
}
