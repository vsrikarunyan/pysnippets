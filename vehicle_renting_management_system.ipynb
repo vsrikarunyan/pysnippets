{
 "cells": [
  {
   "cell_type": "markdown",
   "metadata": {},
   "source": [
    "# Rentable Vehicles Management System\n",
    "\n",
    "## Overview\n",
    "\n",
    "This Python code outlines a system for managing rentable objects, including cars and bicycles. The script utilizes abstract classes and methods to define a common interface for handling rental operations.\n",
    "\n",
    "## Implementation Details\n",
    "\n",
    "### Abstract Class `Rentable`\n",
    "\n",
    "-   This class is an abstract base class (ABC) that defines two abstract methods:\n",
    "-   `rent()`: Method to rent the vehicle.\n",
    "-   `return_item()`: Method to return the rented vehicle.\n",
    "\n",
    "### Class `Car`\n",
    "\n",
    "-   Inherits from the `Rentable` class.\n",
    "-   Represents a car object with variables `car_model` and `is_rented`.\n",
    "-   Has the `rent()` and `return_item()` methods specific to cars.\n",
    "\n",
    "### Class `Bicycle`\n",
    "\n",
    "-   Inherits from the `Rentable` class.\n",
    "-   Represents a bicycle object with variables `bicycle_model` and `is_rented`.\n",
    "-   Has the `rent()` and `return_item()` methods specific to bicycles.\n",
    "\n",
    "## Instructions\n",
    "\n",
    "1.  Implement the `Rentable` class by providing implementations for the `rent()` and `return_item()` methods.\n",
    "2.  Implement the `Car` class and its methods:\n",
    "\n",
    "-   Complete the `__init__()` method by initializing the `car_model` variable and a boolean variable `is_rented` which tells if the current car is rented or not.\n",
    "-   Implement the `rent()` method in which if the car is already rented then print \"`Car <car_model> is already rented`\",otherwise mark the current car as rented and print \"`Car <car_model> is now rented`\".\n",
    "-   Implement the `return_item()` method in which, if the car is rented then return the car back and print \"`Car <car_model> is now returned`\" otherwise print \"`Car <car_model> is not rented`\".\n",
    "\n",
    "1.  Implement the `Bicycle` class and its methods:\n",
    "\n",
    "-   Complete the `__init__()` method by initializing the `bicycle_model` variable and a boolean variable `is_rented` which tells if the current bicycle is rented or not.\n",
    "-   Implement the `rent()` method in which if the bicycle is already rented then print \"`Cycle <bicycle_model> is already rented`\",otherwise mark the current bicycle as rented and print \"`Cycle <bicycle_model> is now rented`\".\n",
    "-   Implement the `return_item()` method in which, if the cycle is rented then return the cycle back and print \"`Cycle <bicycle_model> is now returned`\" otherwise print \"`Cycle <bicycle_model> is not rented`\".\n",
    "-   The unit tests will only verify the `is_rented` variable of a vehicle, but you have to write relevant messages for renting and returning a vehicle.\n",
    "-   Ensure that the methods are properly implemented to manage object rentals effectively."
   ]
  }
 ],
 "metadata": {
  "language_info": {
   "name": "python"
  }
 },
 "nbformat": 4,
 "nbformat_minor": 2
}
