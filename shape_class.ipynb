{
 "cells": [
  {
   "cell_type": "markdown",
   "metadata": {},
   "source": [
    "# Shape Class Implementation in Python\n",
    "\n",
    "## Problem Statement\n",
    "\n",
    "Implement an abstract class `Shape` in Python along with child classes like `Rectangle` and `Circle`. `Shape` is an abstract class with abstract methods `area()` and `perimeter()`. `Rectangle` and `Circle` are child classes of `Shape`, implementing the `area()` and `perimeter()` methods specific to their shapes.\n",
    "\n",
    "-   `Rectangle` takes length and width as parameters.\n",
    "-   `Circle` takes radius as a parameter.\n",
    "\n",
    "## Requirements\n",
    "\n",
    "-   Implement an abstract class `Shape` with the following abstract methods:\n",
    "-   `area()`: Calculates the area of the shape.\n",
    "-   `perimeter()`: Calculates the perimeter of the shape.\n",
    "-   Implement child classes `Rectangle` and `Circle` inheriting from `Shape`.\n",
    "-   `Rectangle` should have a constructor that accepts length and width.\n",
    "-   `Circle` should have a constructor that accepts the radius.\n",
    "\n",
    "## Instructions\n",
    "\n",
    "-   Implement the `Shape`, `Rectangle`, and `Circle` classes according to the specified requirements.\n",
    "-   Ensure that the `Shape` class contains the abstract methods `area()` and `perimeter()`.\n",
    "-   Ensure that the `Rectangle` class properly implements the `area()` and `perimeter()` methods for rectangles.\n",
    "-   Ensure that the `Circle` class properly implements the `area()` and `perimeter()` methods for circles.\n",
    "-   Use `math.pi` as the value of pi for calculating the area of a circle."
   ]
  },
  {
   "cell_type": "code",
   "execution_count": null,
   "metadata": {},
   "outputs": [],
   "source": [
    "from abc import ABC, abstractmethod\n",
    "import math\n",
    "\n",
    "class Shape(ABC):\n",
    "    @abstractmethod\n",
    "    def area():\n",
    "        pass\n",
    "\n",
    "    @abstractmethod\n",
    "    def perimeter():\n",
    "        pass\n",
    "\n",
    "class Rectangle(Shape):\n",
    "    def __init__(self, length, width):\n",
    "        self.length = length\n",
    "        self.width = width\n",
    "\n",
    "    def area(self):\n",
    "        return self.length * self.width\n",
    "\n",
    "    def perimeter(self):\n",
    "        return 2 * (self.length + self.width)\n",
    "\n",
    "class Circle(Shape):\n",
    "    def __init__(self, radius):\n",
    "        self.radius = radius\n",
    "\n",
    "    def area(self):\n",
    "        return math.pi * self.radius * self.radius\n",
    "\n",
    "    def perimeter(self):\n",
    "        return 2 * math.pi * self.radius"
   ]
  }
 ],
 "metadata": {
  "language_info": {
   "name": "python"
  }
 },
 "nbformat": 4,
 "nbformat_minor": 2
}
