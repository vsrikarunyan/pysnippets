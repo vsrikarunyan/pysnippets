{
 "cells": [
  {
   "cell_type": "markdown",
   "metadata": {},
   "source": [
    "# Zero Even Odd Challenge\n",
    "\n",
    "## Problem Statement\n",
    "\n",
    "In this challenge, you are required to design a multithreading solution that ensures the ordered printing of numbers in a zero-even-odd sequence up to a given `n`. Specifically, you'll be working with a class `ZeroEvenOdd` that provides three methods:\n",
    "\n",
    "-   `zero(printNumber)`: prints \"0\" to the standard output.\n",
    "-   `even(printNumber)`: prints even numbers to the standard output.\n",
    "-   `odd(printNumber)`: prints odd numbers to the standard output.\n",
    "\n",
    "Each of these methods is intended to be executed by a different thread.\n",
    "\n",
    "## Task Description\n",
    "\n",
    "Your task is to implement the `ZeroEvenOdd` class to ensure that:\n",
    "\n",
    "-   The `zero` method prints \"0\" and is called `n` times.\n",
    "-   The `even` method prints even numbers from 2 to `n`.\n",
    "-   The `odd` method prints odd numbers from 1 to `n`.\n",
    "-   The numbers are printed in sequence, with \"0\" printed between each number, resulting in a pattern like \"0102030405\" for `n = 5`.\n",
    "\n",
    "### Requirements\n",
    "\n",
    "-   Utilize semaphores from Python's `threading` module to synchronize the execution order of `zero`, `even`, and `odd` methods.\n",
    "-   The `PrintNumber` class is provided to encapsulate the logic for printing numbers and should be used as is.\n",
    "-   Ensure your implementation allows the threads to cooperate smoothly, maintaining the correct sequence regardless of how they are scheduled by the Python interpreter.\n",
    "\n",
    "### Implementation Details\n",
    "\n",
    "-   The `ZeroEvenOdd` class constructor accepts an integer `n`, representing the maximum number to print.\n",
    "-   You need to correctly initialize and use semaphores to control the execution flow between the threads running `zero`, `even`, and `odd` methods."
   ]
  },
  {
   "cell_type": "code",
   "execution_count": 1,
   "metadata": {},
   "outputs": [
    {
     "name": "stdout",
     "output_type": "stream",
     "text": [
      "0102030405060708"
     ]
    }
   ],
   "source": [
    "import threading\n",
    "\n",
    "\n",
    "class ZeroEvenOdd:\n",
    "    def __init__(self, n):\n",
    "        self.n = n\n",
    "        # Initialize semaphores here\n",
    "        self.zero_sem = threading.Semaphore(1)\n",
    "        self.even_sem = threading.Semaphore(0)\n",
    "        self.odd_sem = threading.Semaphore(0)\n",
    "\n",
    "    def zero(self, printNumber):\n",
    "        for i in range(1, self.n + 1):\n",
    "            self.zero_sem.acquire()\n",
    "            printNumber.accept(0)\n",
    "            if i % 2 == 0:\n",
    "                self.even_sem.release()\n",
    "            else:\n",
    "                self.odd_sem.release()\n",
    "\n",
    "    def even(self, printNumber):\n",
    "        for eNum in range(2, self.n + 1, 2):\n",
    "            self.even_sem.acquire()\n",
    "            printNumber.accept(eNum)\n",
    "            self.zero_sem.release()\n",
    "\n",
    "    def odd(self, printNumber):\n",
    "        for oNum in range(1, self.n + 1, 2):\n",
    "            self.odd_sem.acquire()\n",
    "            printNumber.accept(oNum)\n",
    "            self.zero_sem.release()\n",
    "\n",
    "\n",
    "class PrintNumber:\n",
    "    def accept(self, x):\n",
    "        print(x, end='')\n",
    "\n",
    "\n",
    "def test_zero_even_odd():\n",
    "    n = 8\n",
    "    zeo = ZeroEvenOdd(n)\n",
    "    pn = PrintNumber()\n",
    "\n",
    "    threads = [threading.Thread(target=zeo.zero, args=(pn,)), threading.Thread(target=zeo.even, args=(pn,)),\n",
    "               threading.Thread(target=zeo.odd, args=(pn,))]\n",
    "\n",
    "    for t in threads:\n",
    "        t.start()\n",
    "\n",
    "    for t in threads:\n",
    "        t.join()\n",
    "\n",
    "\n",
    "if __name__ == \"__main__\":\n",
    "    test_zero_even_odd()\n"
   ]
  }
 ],
 "metadata": {
  "kernelspec": {
   "display_name": ".venv",
   "language": "python",
   "name": "python3"
  },
  "language_info": {
   "codemirror_mode": {
    "name": "ipython",
    "version": 3
   },
   "file_extension": ".py",
   "mimetype": "text/x-python",
   "name": "python",
   "nbconvert_exporter": "python",
   "pygments_lexer": "ipython3",
   "version": "3.13.0"
  }
 },
 "nbformat": 4,
 "nbformat_minor": 2
}
