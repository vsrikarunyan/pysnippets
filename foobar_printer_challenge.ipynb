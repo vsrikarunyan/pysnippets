{
 "cells": [
  {
   "cell_type": "markdown",
   "metadata": {},
   "source": [
    "# FooBar Printer Challenge\n",
    "\n",
    "## Problem Statement\n",
    "\n",
    "In this challenge, you are tasked with implementing a multithreaded application that alternates printing the words \"foo\" and \"bar\" in sequence using Python's threading capabilities. The goal is to synchronize two threads to ensure that \"foo\" and \"bar\" are printed in the correct order, forming the sequence \"foobar\" repeated `n` times, where `n` is a given integer.\n",
    "\n",
    "## Task Description\n",
    "\n",
    "Your task is to implement a class named `FooBar` that will have two methods: `foo` and `bar`. These methods, when executed by different threads, should print \"foo\" and \"bar\" respectively, ensuring that \"foo\" is always printed before \"bar\" in each sequence.\n",
    "\n",
    "### Requirements\n",
    "\n",
    "-   The class `FooBar` should accept an integer `n` in its constructor. This integer `n` represents the number of times the sequence \"foobar\" should be printed.\n",
    "-   Implement two methods in the `FooBar` class:\n",
    "-   `foo`: This method should print the word \"foo\". It will be called by one thread.\n",
    "-   `bar`: This method should print the word \"bar\". It will be called by another thread.\n",
    "-   Ensure that \"foo\" and \"bar\" are printed in the correct sequence, forming \"foobar\" exactly `n` times.\n",
    "\n",
    "### Implementation Details\n",
    "\n",
    "-   Use Python's `threading` module to create and manage threads.\n",
    "-   Utilize synchronization mechanisms such as semaphores to coordinate the execution order of the threads.\n",
    "-   The program should create two threads, one for each method (`foo` and `bar`), and start them in such a way that they produce the correct output."
   ]
  },
  {
   "cell_type": "code",
   "execution_count": 65,
   "metadata": {},
   "outputs": [
    {
     "name": "stdout",
     "output_type": "stream",
     "text": [
      "foobar\n",
      "foobar\n",
      "foobar\n",
      "foobar\n",
      "foobar\n"
     ]
    }
   ],
   "source": [
    "import time\n",
    "import threading\n",
    "\n",
    "class FooBar:\n",
    "    def __init__(self, n):\n",
    "        self.n = n\n",
    "        self.foobar_semaphore = threading.Semaphore(1)\n",
    "        self.sleep_duration = 100 / 1000\n",
    "\n",
    "    def foo(self):\n",
    "        for _ in range(self.n):\n",
    "            self.foobar_semaphore.acquire()\n",
    "            print('foo', end='')            \n",
    "            self.foobar_semaphore.release()\n",
    "            time.sleep(self.sleep_duration)\n",
    "\n",
    "    def bar(self):\n",
    "        for _ in range(self.n):\n",
    "            self.foobar_semaphore.acquire()\n",
    "            print('bar', end='\\n')            \n",
    "            self.foobar_semaphore.release()\n",
    "            time.sleep(self.sleep_duration)\n",
    "\n",
    "def test_foobar():\n",
    "    n = 5\n",
    "    fb = FooBar(n)\n",
    "\n",
    "    def foo():\n",
    "        fb.foo()\n",
    "\n",
    "    def bar():\n",
    "        fb.bar()\n",
    "\n",
    "    threads = [threading.Thread(target=foo), threading.Thread(target=bar)]\n",
    "\n",
    "    for t in threads:\n",
    "        t.start()\n",
    "\n",
    "    for t in threads:\n",
    "        t.join()\n",
    "\n",
    "\n",
    "if __name__ == \"__main__\":\n",
    "    test_foobar()            "
   ]
  }
 ],
 "metadata": {
  "kernelspec": {
   "display_name": ".venv",
   "language": "python",
   "name": "python3"
  },
  "language_info": {
   "codemirror_mode": {
    "name": "ipython",
    "version": 3
   },
   "file_extension": ".py",
   "mimetype": "text/x-python",
   "name": "python",
   "nbconvert_exporter": "python",
   "pygments_lexer": "ipython3",
   "version": "3.13.0"
  }
 },
 "nbformat": 4,
 "nbformat_minor": 2
}
