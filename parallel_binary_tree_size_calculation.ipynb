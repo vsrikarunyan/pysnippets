{
 "cells": [
  {
   "cell_type": "markdown",
   "metadata": {},
   "source": [
    "# Parallel Binary Tree Size Calculation\n",
    "\n",
    "## Problem Statement\n",
    "\n",
    "You are tasked with creating a Python program that can calculate the size (number of nodes) of a binary tree using parallel processing. The program should leverage the concurrent.futures module and threading to achieve parallelism and improve performance.\n",
    "\n",
    "## Requirements\n",
    "\n",
    "The program should include the following components:\n",
    "\n",
    "1.  Node class:\n",
    "    -   Represents a node in the binary tree.\n",
    "    -   Has attributes: data (integer value), left (reference to the left child), and right (reference to the right child).\n",
    "2.  TreeSizeCalculator class:\n",
    "    -   Takes the root node of the binary tree and an instance of concurrent.futures.Executor as input.\n",
    "    -   Provides a method calculate\\_size to calculate the size (number of nodes) of the binary tree.\n",
    "    -   Utilizes parallel processing by submitting tasks to the executor to calculate the size of the left and right subtrees concurrently.\n",
    "    -   Waits for all tasks to complete before returning the total size.\n",
    "\n",
    "## Instructions\n",
    "\n",
    "-   Implement the `_calculate_size_recursive` method in the TreeSizeCalculator class, which recursively calculates the size of the binary tree using parallel processing.\n",
    "-   Ensure that the `calculate_size` method properly invokes the `_calculate_size_recursive` method and handles the case when the root node is None.\n",
    "-   `_calculate_size_recursive` function doesn't return any value but should update the size property given in the constructor."
   ]
  },
  {
   "cell_type": "code",
   "execution_count": null,
   "metadata": {},
   "outputs": [],
   "source": [
    "import threading\n",
    "from concurrent.futures import Executor, as_completed\n",
    "\n",
    "class Node:\n",
    "    def __init__(self, data: int):\n",
    "        self.data = data\n",
    "        self.left = None\n",
    "        self.right = None\n",
    "\n",
    "class TreeSizeCalculator:\n",
    "    def __init__(self, root: Node, executor: Executor):\n",
    "        self.root = root\n",
    "        self.executor = executor\n",
    "        self.size = 0\n",
    "\n",
    "    def calculate_size(self) -> int:\n",
    "        self.size = self._calculate_size_recursive(self.root)\n",
    "        return self.size\n",
    "\n",
    "    def _calculate_size_recursive(self, node: Node) -> int:\n",
    "        if node is None:\n",
    "            return 0\n",
    "\n",
    "        left_size_future = self.executor.submit(self._calculate_size_recursive, node.left)\n",
    "        right_size_future = self.executor.submit(self._calculate_size_recursive, node.right)\n",
    "\n",
    "        return 1 + left_size_future.result() + right_size_future.result()"
   ]
  }
 ],
 "metadata": {
  "language_info": {
   "name": "python"
  }
 },
 "nbformat": 4,
 "nbformat_minor": 2
}
