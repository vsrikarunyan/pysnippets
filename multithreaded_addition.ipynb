{
 "cells": [
  {
   "cell_type": "markdown",
   "metadata": {},
   "source": [
    "# Multi-threaded Addition Program\n",
    "\n",
    "## Overview\n",
    "\n",
    "This Python program demonstrates multi-threaded addition functionality using the `Client` and `Adder` classes. The program takes two numbers as input from the user, creates a new thread, and invokes the `Adder` class to calculate and print the sum of the two numbers.\n",
    "\n",
    "## Implementation Details\n",
    "\n",
    "### Class `Adder`\n",
    "\n",
    "-   Inherits from the `threading.Thread` class.\n",
    "-   Represents a thread that performs addition of two numbers.\n",
    "-   Initializes with two numbers (`num1` and `num2`) provided as input.\n",
    "-   Overrides the `run()` method to calculate and print the sum of `num1` and `num2`.\n",
    "\n",
    "### Class `Client`\n",
    "\n",
    "-   Contains a static method `main()` that serves as the entry point of the program.\n",
    "-   Prompts the user to enter two numbers.\n",
    "-   Creates an instance of the `Adder` class with the provided numbers.\n",
    "-   Starts the thread and waits for its completion.\n",
    "\n",
    "## Instructions\n",
    "\n",
    "To run the program:\n",
    "\n",
    "1.  Execute the `Client` class's `main()` method.\n",
    "2.  Enter two numbers when prompted.\n",
    "3.  The program will create a new thread to calculate and print the sum of the provided numbers.\n",
    "\n",
    "Ensure that the program runs in a Python environment with threading support."
   ]
  },
  {
   "cell_type": "code",
   "execution_count": null,
   "metadata": {},
   "outputs": [],
   "source": [
    "import threading\n",
    "\n",
    "class Adder(threading.Thread):\n",
    "    def __init__(self, num1, num2):\n",
    "        super().__init__()\n",
    "        self.num1 = num1\n",
    "        self.num2 = num2\n",
    "        self.sum = 0\n",
    "\n",
    "    def run(self):\n",
    "        self.sum = self.num1 + self.num2\n",
    "        print(\"Sum of {} and {} is {}\\n\".format(self.num1, self.num2, self.sum))\n",
    "\n",
    "class Client:\n",
    "    @staticmethod\n",
    "    def main():\n",
    "        num1 = int(input(\"Enter the first number: \"))\n",
    "        num2 = int(input(\"Enter the second number: \"))\n",
    "        adder = Adder(num1, num2)\n",
    "        adder.start()\n",
    "        adder.join()    # wait for the thread to finish before exiting"
   ]
  },
  {
   "cell_type": "code",
   "execution_count": 4,
   "metadata": {},
   "outputs": [
    {
     "name": "stdout",
     "output_type": "stream",
     "text": [
      "Sum of 10 and 20 is 30\n",
      "\n",
      "Sum is 30\n"
     ]
    }
   ],
   "source": [
    "Client.main()"
   ]
  }
 ],
 "metadata": {
  "kernelspec": {
   "display_name": ".venv",
   "language": "python",
   "name": "python3"
  },
  "language_info": {
   "codemirror_mode": {
    "name": "ipython",
    "version": 3
   },
   "file_extension": ".py",
   "mimetype": "text/x-python",
   "name": "python",
   "nbconvert_exporter": "python",
   "pygments_lexer": "ipython3",
   "version": "3.13.0"
  }
 },
 "nbformat": 4,
 "nbformat_minor": 2
}
