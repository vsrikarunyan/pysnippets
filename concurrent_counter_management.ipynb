{
 "cells": [
  {
   "cell_type": "markdown",
   "metadata": {},
   "source": [
    "# Concurrent Counter Management\n",
    "\n",
    "## Problem statement\n",
    "\n",
    "This Python program is created to implement multithreading concepts. The program has a `Counter` class with methods to increment, decrement, and retrieve the counter value. It then creates multiple threads to perform concurrent increment and decrement operations on the counter.\n",
    "\n",
    "## Requirements\n",
    "\n",
    "### Class `Counter`\n",
    "\n",
    "-   Represents a counter object with an initial count.\n",
    "-   Provides methods for incrementing, decrementing, and retrieving the counter value.\n",
    "-   Methods:\n",
    "-   `__init__(self, initial_count)`: Initializes the counter with the specified initial count.\n",
    "-   `incValue(self, offset)`: Increments the counter value by the specified `offset`.\n",
    "-   `decValue(self, offset)`: Decrements the counter value by the specified `offset`.\n",
    "-   `getValue(self)`: Retrieves the current value of the counter.\n",
    "\n",
    "### Concurrent Operations\n",
    "\n",
    "-   Functions `concurrent_inc()` and `concurrent_dec()` perform concurrent increment and decrement operations on the counter.\n",
    "-   Each function is executed by multiple threads to simulate concurrent operations.\n",
    "\n",
    "## Instructions\n",
    "\n",
    "1.  Implement the methods of the `Counter` class as per the provided TODO comments.\n",
    "2.  The program will create and start multiple threads for concurrent increment and decrement operations.\n",
    "3.  After all threads complete execution, the final value of the counter will be printed.\n",
    "\n",
    "Ensure that the Python environment supports threading to execute the program effectively."
   ]
  },
  {
   "cell_type": "code",
   "execution_count": null,
   "metadata": {},
   "outputs": [
    {
     "name": "stdout",
     "output_type": "stream",
     "text": [
      "Final counter value: 500000\n"
     ]
    }
   ],
   "source": [
    "import threading\n",
    "\n",
    "class Counter:\n",
    "    def __init__(self, initial_count):\n",
    "        self.count = initial_count    \n",
    "        self.lock = threading.Lock()    \n",
    "\n",
    "    def incValue(self, offset):\n",
    "        with self.lock:\n",
    "            self.count += offset\n",
    "\n",
    "    def decValue(self, offset):\n",
    "        with self.lock:\n",
    "            self.count -= offset\n",
    "\n",
    "    def getValue(self):\n",
    "        return self.count\n",
    "    \n",
    "def concurrent_inc(counter, offset, n = 100000):\n",
    "    for _ in range(n):\n",
    "        counter.incValue(offset)\n",
    "\n",
    "def concurrent_dec(counter, offset, n = 50000):\n",
    "    for _ in range(n):\n",
    "        counter.decValue(offset)\n",
    "\n",
    "counter = Counter(0)\n",
    "\n",
    "threads = []\n",
    "for _ in range(10):\n",
    "    thread_inc = threading.Thread(target=concurrent_inc, args=(counter, 1, ))\n",
    "    thread_dec = threading.Thread(target=concurrent_dec, args=(counter, 1, ))\n",
    "    threads.append(thread_inc)\n",
    "    threads.append(thread_dec)\n",
    "    thread_inc.start()\n",
    "    thread_dec.start()\n",
    "\n",
    "for thread in threads:\n",
    "    thread.join()\n",
    "\n",
    "print(f'Final counter value: {counter.getValue()}')"
   ]
  }
 ],
 "metadata": {
  "kernelspec": {
   "display_name": ".venv",
   "language": "python",
   "name": "python3"
  },
  "language_info": {
   "codemirror_mode": {
    "name": "ipython",
    "version": 3
   },
   "file_extension": ".py",
   "mimetype": "text/x-python",
   "name": "python",
   "nbconvert_exporter": "python",
   "pygments_lexer": "ipython3",
   "version": "3.13.0"
  }
 },
 "nbformat": 4,
 "nbformat_minor": 2
}
