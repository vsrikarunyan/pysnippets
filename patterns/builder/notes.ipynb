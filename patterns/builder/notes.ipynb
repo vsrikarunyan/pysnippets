{
 "cells": [
  {
   "cell_type": "markdown",
   "metadata": {},
   "source": [
    "## Builder\n",
    "\n",
    "### Builder\n",
    "* Validates the source data and constructs the target object instance\n",
    "\n",
    "### Director\n",
    "* Control/Orchestrate the utilization of builder(s) to arrive at the eventual object instance\n"
   ]
  },
  {
   "cell_type": "code",
   "execution_count": null,
   "metadata": {},
   "outputs": [],
   "source": []
  }
 ],
 "metadata": {
  "language_info": {
   "name": "python"
  }
 },
 "nbformat": 4,
 "nbformat_minor": 2
}
