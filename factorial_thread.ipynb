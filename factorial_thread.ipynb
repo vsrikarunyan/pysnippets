{
 "cells": [
  {
   "cell_type": "markdown",
   "metadata": {},
   "source": [
    "# Factorial Class Implementation in Python\n",
    "\n",
    "## Problem Statement\n",
    "\n",
    "You are tasked with implementing a multi-threaded solution to compute factorials of large numbers efficiently. Your implementation should involve creating a custom thread class that computes the factorial of a given number in a separate thread.\n",
    "\n",
    "## Requirements\n",
    "\n",
    "1.  **Factorial Thread Class:**\n",
    "\n",
    "-   Create a class named `FactorialThread` that inherits from Python's `threading.Thread` class.\n",
    "-   The `__init__` method should accept a single parameter `n`, which represents the number to compute the factorial of. It should also initialize a `result` attribute to `None`.\n",
    "-   Implement the `run` method in such a way that it computes the factorial of `n` using the `math.factorial` function and stores the result in the `result` attribute.\n",
    "\n",
    "1.  **Compute Large Factorial Function:**\n",
    "\n",
    "-   Write a function named `compute_large_factorial` that takes an integer `n` as input and returns the factorial of `n`.\n",
    "-   Inside this function, create an instance of the `FactorialThread` class, start the thread, wait for the calculation to finish, and then return the result.\n",
    "\n",
    "## Instructions\n",
    "\n",
    "1.  You should use Python's `threading` and `math` modules for implementing the solution.\n",
    "2.  Pay attention to thread safety and ensure your thread correctly completes its execution before the result is accessed."
   ]
  },
  {
   "cell_type": "code",
   "execution_count": null,
   "metadata": {},
   "outputs": [],
   "source": [
    "import math\n",
    "import threading\n",
    "\n",
    "class FactorialThread(threading.Thread):\n",
    "    def __init__(self, n):\n",
    "        threading.Thread.__init__(self)\n",
    "        self.n = n\n",
    "        self.result = None\n",
    "\n",
    "    def run(self):\n",
    "        self.result = math.factorial(self.n)\n",
    "\n",
    "def compute_large_factorial(n):\n",
    "    thread = FactorialThread(n)\n",
    "    thread.start()\n",
    "    thread.join()\n",
    "    return thread.result"
   ]
  }
 ],
 "metadata": {
  "language_info": {
   "name": "python"
  }
 },
 "nbformat": 4,
 "nbformat_minor": 2
}
