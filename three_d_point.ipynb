{
 "cells": [
  {
   "cell_type": "markdown",
   "metadata": {},
   "source": [
    "# Point and 3D Point Classes\n",
    "\n",
    "## Problem Statement\n",
    "\n",
    "You are tasked with creating a Python class hierarchy for representing points in a 2D and 3D coordinate system. The system should provide functionality for initializing and displaying the coordinates of points.\n",
    "\n",
    "## Requirements\n",
    "\n",
    "1.  Point class:\n",
    "    -   Attributes:\\_x, \\_y\n",
    "    -   Methods:\n",
    "        -   **init**(self, x, y): Constructor to initialize the point's x and y coordinates.\n",
    "        -   display(self): Prints the point's coordinates in the format \\[x, y\\].\n",
    "2.  ThreedPoint class (derived from Point):\n",
    "    -   Attributes: \\_z (in addition to \\_x and \\_y inherited from Point)\n",
    "    -   Methods:\n",
    "        -   **init**(self, x, y, z): Constructor to initialize the 3D point's x, y, and z coordinates. Use `super()` to call the constructor of the base class.\n",
    "        -   display(self): Prints the 3D point's coordinates in the format \\[x, y, z\\].\n",
    "\n",
    "## Instructions\n",
    "\n",
    "-   Implement the ThreedPoint class according to the specified requirements. The Point class is already provided.\n",
    "-   Ensure that the ThreedPoint class inherits from the Point class and overrides the necessary methods."
   ]
  },
  {
   "cell_type": "code",
   "execution_count": null,
   "metadata": {},
   "outputs": [],
   "source": [
    "class Point:\n",
    "    def __init__(self, x, y):\n",
    "        self._x = x\n",
    "        self._y = y\n",
    "\n",
    "    def display(self):\n",
    "        print(f'[{self._x}, {self._y}]')\n",
    "\n",
    "class ThreedPoint(Point):\n",
    "    def __init__(self, x, y, z):\n",
    "        super().__init__(x, y)\n",
    "        self._z = z\n",
    "\n",
    "    def display(self):\n",
    "        print(f'[{self._x}, {self._y}, {self._z}]')"
   ]
  }
 ],
 "metadata": {
  "language_info": {
   "name": "python"
  }
 },
 "nbformat": 4,
 "nbformat_minor": 2
}
