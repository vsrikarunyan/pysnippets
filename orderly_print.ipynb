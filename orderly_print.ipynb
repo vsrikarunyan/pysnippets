{
 "cells": [
  {
   "cell_type": "markdown",
   "metadata": {},
   "source": [
    "# Print in Order Challenge\n",
    "\n",
    "## Problem Statement\n",
    "\n",
    "In this challenge, you are required to ensure that three different methods print in strict sequence: \"first\", \"second\", and \"third\". You are given a class `Foo` with three methods:\n",
    "\n",
    "-   `first()`: prints \"first\"\n",
    "-   `second()`: prints \"second\"\n",
    "-   `third()`: prints \"third\"\n",
    "\n",
    "Your task is to modify the `Foo` class to ensure that these methods can only run in sequence (`first`, then `second`, then `third`), regardless of the order in which they're called in the code.\n",
    "\n",
    "## Requirements\n",
    "\n",
    "-   The class `Foo` is already provided with semaphore placeholders for synchronization.\n",
    "-   You need to initialize any required semaphores in the `__init__` method of the `Foo` class.\n",
    "-   Implement the `first`, `second`, and `third` methods using semaphores to enforce the correct sequence of execution.\n",
    "-   The `output` list attribute of the `Foo` class should collect the strings \"first\", \"second\", and \"third\" in the exact order of method execution to validate the sequence.\n",
    "\n",
    "### Implementation Details\n",
    "\n",
    "-   Use Python's `threading` module for thread creation and synchronization.\n",
    "-   Leverage semaphores from the `threading` module to enforce the execution order of `first()`, `second()`, and `third()` methods."
   ]
  },
  {
   "cell_type": "code",
   "execution_count": null,
   "metadata": {
    "vscode": {
     "languageId": "plaintext"
    }
   },
   "outputs": [],
   "source": []
  }
 ],
 "metadata": {
  "language_info": {
   "name": "python"
  }
 },
 "nbformat": 4,
 "nbformat_minor": 2
}
