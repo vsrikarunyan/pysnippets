{
 "cells": [
  {
   "cell_type": "markdown",
   "metadata": {},
   "source": [
    "# Parallel Matrix Painting\n",
    "\n",
    "## Problem Statement\n",
    "\n",
    "You are tasked with creating a Python program that can divide a matrix into quadrants and paint each quadrant with a different color using parallel processing. The program should leverage the concurrent.futures module to achieve parallelism and improve performance.\n",
    "\n",
    "## Requirements\n",
    "\n",
    "The program should include the following components:\n",
    "\n",
    "1.  paint\\_quadrant function:\n",
    "    -   Takes a matrix, start and end row indices, start and end column indices, and a color as input.\n",
    "    -   Paints the specified quadrant of the matrix with the given color.\n",
    "2.  divide_and_paint function:\n",
    "    -   Takes a matrix and a list of colors as input.\n",
    "    -   Divides the matrix into four quadrants (top-left, top-right, bottom-left, bottom-right).\n",
    "    -   Utilizes the concurrent.futures.ThreadPoolExecutor to create four separate threads.\n",
    "    -   Each thread calls the paint\\_quadrant function with the corresponding quadrant and color.\n",
    "    -   Waits for all threads to complete before returning.\n",
    "3.  Example usage:\n",
    "    -   Creates a sample 4x4 matrix.\n",
    "    -   Calls the divide_and_paint function with the matrix and a list of four colors.\n",
    "    -   Prints the painted matrix.\n",
    "\n",
    "## Instructions\n",
    "\n",
    "-   Implement the paint\\_quadrant function according to the specified requirements.\n",
    "-   Implement the divide_and_paint function, which creates a thread pool executor and submits tasks to paint each quadrant in parallel."
   ]
  },
  {
   "cell_type": "code",
   "execution_count": 1,
   "metadata": {},
   "outputs": [
    {
     "name": "stdout",
     "output_type": "stream",
     "text": [
      "['red', 'red', 'blue', 'blue']\n",
      "['red', 'red', 'blue', 'blue']\n",
      "['green', 'green', 'yellow', 'yellow']\n",
      "['green', 'green', 'yellow', 'yellow']\n"
     ]
    }
   ],
   "source": [
    "import concurrent.futures\n",
    "\n",
    "def paint_quadrant(matrix, start_row, end_row, start_col, end_col, color):\n",
    "    for row in range(start_row, end_row):\n",
    "        for col in range(start_col, end_col):\n",
    "            matrix[row][col] = color\n",
    "\n",
    "def divide_and_paint(matrix, colors):\n",
    "    num_rows = len(matrix)\n",
    "    num_cols = len(matrix[0])\n",
    "    with concurrent.futures.ThreadPoolExecutor() as executor:\n",
    "        executor.submit(paint_quadrant, matrix, 0, num_rows//2, 0, num_cols//2, colors[0])\n",
    "        executor.submit(paint_quadrant, matrix, 0, num_rows//2, num_cols//2, num_cols, colors[1])\n",
    "        executor.submit(paint_quadrant, matrix, num_rows//2, num_rows, 0, num_cols//2, colors[2])\n",
    "        executor.submit(paint_quadrant, matrix, num_rows//2, num_rows, num_cols//2, num_cols, colors[3])\n",
    "\n",
    "matrix = [[0, 0, 0, 0],\n",
    "          [0, 0, 0, 0],\n",
    "          [0, 0, 0, 0],\n",
    "          [0, 0, 0, 0]]\n",
    "\n",
    "colors = ['red', 'blue', 'green', 'yellow']\n",
    "\n",
    "divide_and_paint(matrix, colors)\n",
    "\n",
    "for row in matrix:\n",
    "    print(row)"
   ]
  }
 ],
 "metadata": {
  "kernelspec": {
   "display_name": ".venv",
   "language": "python",
   "name": "python3"
  },
  "language_info": {
   "codemirror_mode": {
    "name": "ipython",
    "version": 3
   },
   "file_extension": ".py",
   "mimetype": "text/x-python",
   "name": "python",
   "nbconvert_exporter": "python",
   "pygments_lexer": "ipython3",
   "version": "3.13.0"
  }
 },
 "nbformat": 4,
 "nbformat_minor": 2
}
