{
 "cells": [
  {
   "cell_type": "markdown",
   "metadata": {},
   "source": [
    "# Interface Inheritance and Implementation\n",
    "\n",
    "## Problem Statement\n",
    "\n",
    "You are tasked with creating a Python class hierarchy that demonstrates the implementation of multiple interfaces and inheritance between interfaces. The system should provide functionality for defining and implementing interfaces with abstract methods.\n",
    "\n",
    "## Requirements\n",
    "\n",
    "The class hierarchy should include the following components:\n",
    "\n",
    "1.  Interface I1:\n",
    "    -   Abstract methods:\n",
    "        -   fun1(self)\n",
    "        -   fun(self)\n",
    "2.  Interface I2:\n",
    "    -   Abstract methods:\n",
    "        -   fun2(self)\n",
    "        -   fun(self)\n",
    "3.  Interface I (derived from I1 and I2):\n",
    "    -   Inherits the abstract methods from both I1 and I2.\n",
    "4.  Class C (implementing I):\n",
    "    -   This class implements the interface I and provides concrete implementations for the abstract methods defined in I.\n",
    "5.  Ensure that interfaces I1 and I2 contain only abstract method signatures without any implementation details.\n",
    "\n",
    "## Instructions\n",
    "\n",
    "-   Implement the I1, I2, and I interfaces according to the specified requirements.\n",
    "-   Implement the C class, which inherits from the I interface and provides concrete implementations for the abstract methods."
   ]
  }
 ],
 "metadata": {
  "language_info": {
   "name": "python"
  }
 },
 "nbformat": 4,
 "nbformat_minor": 2
}
