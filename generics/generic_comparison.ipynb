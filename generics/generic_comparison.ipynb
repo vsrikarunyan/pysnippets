{
 "cells": [
  {
   "cell_type": "markdown",
   "metadata": {},
   "source": [
    "# Generic Comparison Function\n",
    "\n",
    "## Problem Statement\n",
    "\n",
    "You are tasked with implementing a generic comparison function `compare` in Python that can compare two objects of the same type. The function should support direct comparison of objects as well as comparison based on a provided key function that extracts a comparable key from each object.\n",
    "\n",
    "## Requirements\n",
    "\n",
    "The `compare` function should have the following signature:\n",
    "\n",
    "1.  compare:\n",
    "    -   The function should accept the following arguments:\n",
    "        -   x (type T): The first object to compare.\n",
    "        -   y (type T): The second object to compare.\n",
    "        -   key (type Callable\\[\\[T\\], any\\], optional): A function that extracts a comparable key from each object. If not provided, the function should perform direct comparison of the objects.\n",
    "    -   The function should return an integer value based on the comparison result:\n",
    "        -   \\-1 if x is less than y.\n",
    "        -   0 if x is equal to y.\n",
    "        -   1 if x is greater than y.\n",
    "2.  The function should handle both direct comparison of objects and comparison based on a provided key function.\n",
    "\n",
    "## Instructions\n",
    "\n",
    "-   Implement the `compare` function according to the specified requirements.\n",
    "-   Ensure that the function handles both direct comparison and comparison using a key function.\n",
    "-   You can extract the value of object x to compare by calling key(x) if a key function is provided for the object."
   ]
  },
  {
   "cell_type": "code",
   "execution_count": null,
   "metadata": {},
   "outputs": [
    {
     "name": "stdout",
     "output_type": "stream",
     "text": [
      "False\n",
      "True\n",
      "False\n",
      "[{'name': 'Charlie', 'age': 20}, {'name': 'Alice', 'age': 25}, {'name': 'Bob', 'age': 30}]\n"
     ]
    }
   ],
   "source": [
    "from typing import TypeVar, Callable\n",
    "\n",
    "T = TypeVar('T')\n",
    "\n",
    "def compare(x: T, y: T, key: Callable[[T], any] = None) -> int:\n",
    "    \"\"\"\n",
    "    Compare two objects of the same type.\n",
    "\n",
    "    Args:\n",
    "        x (T): The first object to compare.\n",
    "        y (T): The second object to compare.\n",
    "        key (Callable[[T], any], optional): A function to extract a key from each object for comparison.\n",
    "            Defaults to None, which means direct comparison of objects.\n",
    "\n",
    "    Returns:\n",
    "        int: -1 if x < y, 0 if x == y, 1 if x > y.\n",
    "    \"\"\"\n",
    "    if key is not None:\n",
    "        x, y = key(x), key(y)\n",
    "    if x < y:\n",
    "        return -1\n",
    "    elif x > y:\n",
    "        return 1\n",
    "    else:\n",
    "        return 0\n",
    "\n",
    "# Example usage:\n",
    "\n",
    "# Direct comparison\n",
    "print(compare(5, 10))  # Output: -1\n",
    "print(compare(\"abc\", \"abc\"))  # Output: 0\n",
    "print(compare(20, 10))  # Output: 1\n",
    "\n",
    "\n",
    "# Comparison with key function\n",
    "students = [\n",
    "    {\"name\": \"Alice\", \"age\": 25},\n",
    "    {\"name\": \"Bob\", \"age\": 30},\n",
    "    {\"name\": \"Charlie\", \"age\": 20}\n",
    "]\n",
    "\n",
    "# Sort students by age\n",
    "sorted_students = sorted(students, key=lambda x: x['age'])\n",
    "print(sorted_students)  # Output: [{'name': 'Charlie', 'age': 20}, {'name': 'Alice', 'age': 25}, {'name': 'Bob', 'age': 30}]"
   ]
  }
 ],
 "metadata": {
  "kernelspec": {
   "display_name": ".venv",
   "language": "python",
   "name": "python3"
  },
  "language_info": {
   "codemirror_mode": {
    "name": "ipython",
    "version": 3
   },
   "file_extension": ".py",
   "mimetype": "text/x-python",
   "name": "python",
   "nbconvert_exporter": "python",
   "pygments_lexer": "ipython3",
   "version": "3.13.0"
  }
 },
 "nbformat": 4,
 "nbformat_minor": 2
}
