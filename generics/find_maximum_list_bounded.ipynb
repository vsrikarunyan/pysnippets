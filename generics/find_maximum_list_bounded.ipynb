{
 "cells": [
  {
   "cell_type": "markdown",
   "metadata": {},
   "source": [
    "# Finding Maximum Value in a List\n",
    "\n",
    "## Problem Statement\n",
    "\n",
    "You are tasked with implementing a Python function find\\_max that finds the maximum value in a list of integers or floating-point numbers. The function should be type-safe and restrict the input list to contain only integers or floating-point numbers.\n",
    "\n",
    "## Requirements\n",
    "\n",
    "The find\\_max function should have the following signature:\n",
    "\n",
    "1.  The function should accept the following argument:\n",
    "    -   arr (type List\\[T\\]): A list of elements of type T, where T is a type variable bounded by int and float.\n",
    "2.  The function should return the maximum value in the list. If the list is empty, it should raise a ValueError with an appropriate error message.\n",
    "\n",
    "## Instructions\n",
    "\n",
    "-   Implement the find\\_max function according to the specified requirements.\n",
    "-   Ensure that the function handles empty lists by raising a ValueError."
   ]
  },
  {
   "cell_type": "code",
   "execution_count": 2,
   "metadata": {},
   "outputs": [
    {
     "name": "stdout",
     "output_type": "stream",
     "text": [
      "7\n",
      "6.1\n"
     ]
    }
   ],
   "source": [
    "from typing import TypeVar, List\n",
    "\n",
    "# find max - restrict the input types to int or float\n",
    "\"\"\"We use a type variable T with bounds int and float\n",
    "The find_max function takes a list of elements of type T.\n",
    "We initialize max_value with the first element of the list and iterate over the remaining elements, updating max_value if we encounter a larger element.\n",
    "Finally, we return the maximum value found.\"\"\"\n",
    "\n",
    "T = TypeVar('T', int, float)\n",
    "\n",
    "def find_max(arr: List[T]) -> T:\n",
    "    if not arr:\n",
    "        raise ValueError(\"List is empty\")\n",
    "    return max(arr)\n",
    "\n",
    "\n",
    "# Example usage:\n",
    "int_list = [1, 5, 3, 7, 2]\n",
    "float_list = [2.5, 4.7, 3.2, 6.1, 5.0]\n",
    "\n",
    "print(find_max(int_list))  # Output: 7\n",
    "print(find_max(float_list))  # Output: 6.1"
   ]
  }
 ],
 "metadata": {
  "kernelspec": {
   "display_name": ".venv",
   "language": "python",
   "name": "python3"
  },
  "language_info": {
   "codemirror_mode": {
    "name": "ipython",
    "version": 3
   },
   "file_extension": ".py",
   "mimetype": "text/x-python",
   "name": "python",
   "nbconvert_exporter": "python",
   "pygments_lexer": "ipython3",
   "version": "3.13.0"
  }
 },
 "nbformat": 4,
 "nbformat_minor": 2
}
