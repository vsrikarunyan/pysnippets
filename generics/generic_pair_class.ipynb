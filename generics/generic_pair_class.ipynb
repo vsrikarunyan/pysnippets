{
 "cells": [
  {
   "cell_type": "markdown",
   "metadata": {},
   "source": [
    "# Generic Pair Class\n",
    "\n",
    "## Problem statement\n",
    "\n",
    "We define a generic `Pair` class that takes two type parameters `T` and `U`, representing the types of the first and second elements of the pair, respectively. The constructor `__init__` initializes the pair with the given first and second elements. We have a `__repr__` method to customize the string representation of the pair. We have to demonstrate the usage of the `Pair` class with examples of creating pairs of various types.\n",
    "\n",
    "## Pair Class\n",
    "\n",
    "### Constructor:\n",
    "\n",
    "-   `__init__(self, first: T, second: U)`: Initializes the pair with the given first and second elements of types `T` and `U`, respectively.\n",
    "\n",
    "### Methods:\n",
    "\n",
    "-   `__repr__(self)`: Returns the string representation of the pair as shown in the sample output format like \"Pair(1,apple)\".\n",
    "\n",
    "### Examples\n",
    "\n",
    "# Creating pairs of various types\n",
    "\n",
    "pair1 = Pair(1, \"apple\")\n",
    "\n",
    "pair2 = Pair(3.14, True)\n",
    "\n",
    "pair3 = Pair(\"hello\", \\[1, 2, 3\\])\n",
    "\n",
    "print(pair1) # Output: Pair(1, 'apple')\n",
    "\n",
    "print(pair2) # Output: Pair(3.14, True)\n",
    "\n",
    "print(pair3) # Output: Pair('hello', \\[1, 2, 3\\])"
   ]
  },
  {
   "cell_type": "code",
   "execution_count": null,
   "metadata": {},
   "outputs": [],
   "source": [
    "from typing import TypeVar\n",
    "\n",
    "T = TypeVar('T')\n",
    "U = TypeVar('U')\n",
    "\n",
    "class Pair:\n",
    "    #TODO: Implement the constructor to initialize the two pair values\n",
    "    def __init__(self, first: T, second: U):\n",
    "        self.first = first\n",
    "        self.second = second\n",
    "\n",
    "\n",
    "    # TODO: Implement this method to return the string representation of the pair as shown in the readme\n",
    "    def __repr__(self):\n",
    "        return f\"Pair({self.first}, {self.second})\"\n",
    "\n",
    "\n",
    "# Example usage:\n",
    "\n",
    "# Create a pair of integers and strings\n",
    "pair1 = Pair(1, \"apple\")\n",
    "print(pair1)  # Output: Pair(1, apple)\n",
    "\n",
    "# Create a pair of float and list\n",
    "pair2 = Pair(3.14, [1, 2, 3])\n",
    "print(pair2)  # Output: Pair(3.14, [1, 2, 3])\n",
    "\n",
    "# Create a pair of tuple and dictionary\n",
    "pair3 = Pair((1, 2), {\"a\": 1, \"b\": 2})\n",
    "print(pair3)  # Output: Pair((1, 2), {'a': 1, 'b': 2})\n"
   ]
  }
 ],
 "metadata": {
  "language_info": {
   "name": "python"
  }
 },
 "nbformat": 4,
 "nbformat_minor": 2
}
